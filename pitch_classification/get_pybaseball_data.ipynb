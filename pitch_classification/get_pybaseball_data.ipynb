{
 "cells": [
  {
   "cell_type": "markdown",
   "metadata": {},
   "source": [
    "Variable feature explaination\n",
    "\n",
    "- https://baseballsavant.mlb.com/csv-docs"
   ]
  },
  {
   "cell_type": "markdown",
   "metadata": {},
   "source": [
    "Fields to include in pitch categoization (ref. link above)\n",
    "1. pitch_type\n",
    "2. release_speed\n",
    "- release_pos_x\n",
    "- release_pos_z\n",
    "- pfx_x\n",
    "- pfx_z\n",
    "- vx0\n",
    "- vy0\n",
    "- ax\n",
    "- ay\n",
    "- az\n",
    "- effective_speed\n",
    "- release_spin\n",
    "- release_extension\n",
    "- pitch_name"
   ]
  },
  {
   "cell_type": "code",
   "execution_count": 8,
   "metadata": {},
   "outputs": [],
   "source": [
    "# Changing field types for fields that need to be string\n",
    "def modify_field_types(data):\n",
    "    # Making list of fields that need to be changed\n",
    "    fields_to_change_type=['batter','pitcher','zone','hit_location','on_3b','on_2b','on_1b','pitcher.1','fielder_2',\n",
    "                           'fielder_3','fielder_4','fielder_5','fielder_6','fielder_7','fielder_8','fielder_9']\n",
    "    \n",
    "    # Looping over list of fields and changing their data types\n",
    "    for i in range(len(fields_to_change_type)):\n",
    "        field_to_change=fields_to_change_type[i]\n",
    "        data[field_to_change]= data[field_to_change].astype(str)\n",
    "\n",
    "    return data"
   ]
  },
  {
   "cell_type": "code",
   "execution_count": 9,
   "metadata": {},
   "outputs": [],
   "source": [
    "# Getting list of fields that are null for every column\n",
    "def get_list_of_fields_to_drop(data):\n",
    "\n",
    "    total_records=data.count()[0]\n",
    "    get_list_of_fields_to_drop=[]\n",
    "\n",
    "    for column in data:\n",
    "        if (data[column].isna().sum()/total_records) ==1:            \n",
    "            get_list_of_fields_to_drop.append(column)\n",
    "\n",
    "    return get_list_of_fields_to_drop"
   ]
  },
  {
   "cell_type": "code",
   "execution_count": 10,
   "metadata": {},
   "outputs": [],
   "source": [
    "# Grabbing all pitches thrown for 2019 and 2018\n",
    "from pybaseball import statcast\n",
    "\n",
    "def get_raw_data(start_date, end_data):\n",
    "    data = statcast(start_date, end_data)\n",
    "    return data"
   ]
  },
  {
   "cell_type": "code",
   "execution_count": 11,
   "metadata": {},
   "outputs": [],
   "source": [
    "# Deducing data set to fields used to categorize pitch types\n",
    "\n",
    "def get_pitch_categorization_data(data):\n",
    "    # making list of fields used to predict which pitch will be thrown\n",
    "    pitch_categorization_inputs=['pitch_type','release_speed','release_pos_x','release_pos_z','pfx_x','pfx_z','vx0','vy0',\n",
    "                                 'ax','ay','az','effective_speed','release_spin_rate','release_extension','pitch_name']\n",
    "\n",
    "    # Creating a dataframe to use in pitch prediction\n",
    "    pitch_cateogization_data = data[pitch_categorization_inputs]\n",
    "    \n",
    "    return pitch_cateogization_data"
   ]
  }
 ],
 "metadata": {
  "kernelspec": {
   "display_name": "Python 3",
   "language": "python",
   "name": "python3"
  },
  "language_info": {
   "codemirror_mode": {
    "name": "ipython",
    "version": 3
   },
   "file_extension": ".py",
   "mimetype": "text/x-python",
   "name": "python",
   "nbconvert_exporter": "python",
   "pygments_lexer": "ipython3",
   "version": "3.7.1"
  }
 },
 "nbformat": 4,
 "nbformat_minor": 2
}
